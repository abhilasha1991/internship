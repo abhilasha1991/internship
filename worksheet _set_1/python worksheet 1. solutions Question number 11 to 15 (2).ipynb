{
 "cells": [
  {
   "cell_type": "markdown",
   "id": "3470bad6",
   "metadata": {},
   "source": [
    "# python worksheet 1 (solutions Q.11 to Q.15)"
   ]
  },
  {
   "cell_type": "markdown",
   "id": "e7c18064",
   "metadata": {},
   "source": [
    "## Q.11\n"
   ]
  },
  {
   "cell_type": "markdown",
   "id": "a2dd0f33",
   "metadata": {},
   "source": [
    "#### solution"
   ]
  },
  {
   "cell_type": "code",
   "execution_count": 49,
   "id": "695181e1",
   "metadata": {},
   "outputs": [],
   "source": [
    "def factorial(n):\n",
    "    if n==0:\n",
    "        return 1\n",
    "    else:\n",
    "        return n*factorial(n-1)"
   ]
  },
  {
   "cell_type": "markdown",
   "id": "1a4a9abf",
   "metadata": {},
   "source": [
    "# Q.12"
   ]
  },
  {
   "cell_type": "markdown",
   "id": "d7881b83",
   "metadata": {},
   "source": [
    "### solution"
   ]
  },
  {
   "cell_type": "code",
   "execution_count": 55,
   "id": "eeef3849",
   "metadata": {},
   "outputs": [
    {
     "name": "stdout",
     "output_type": "stream",
     "text": [
      "enter any number:10\n",
      "10 is composite number\n"
     ]
    }
   ],
   "source": [
    "num=int(input(\"enter any number:\"))\n",
    "count=0\n",
    "for a in range(2,num):\n",
    "    if num%a==0:\n",
    "        count+=1\n",
    "if count>=1:\n",
    "        print(num,\"is composite number\")\n",
    "    \n",
    "else:\n",
    "    print(num,\"is prime number\")"
   ]
  },
  {
   "cell_type": "markdown",
   "id": "838cf71a",
   "metadata": {},
   "source": [
    "# "
   ]
  },
  {
   "cell_type": "markdown",
   "id": "c8894751",
   "metadata": {},
   "source": [
    "# Q.13"
   ]
  },
  {
   "cell_type": "markdown",
   "id": "e9d711e1",
   "metadata": {},
   "source": [
    "### solution"
   ]
  },
  {
   "cell_type": "code",
   "execution_count": 14,
   "id": "c2109cee",
   "metadata": {},
   "outputs": [
    {
     "name": "stdout",
     "output_type": "stream",
     "text": [
      "yes\n"
     ]
    }
   ],
   "source": [
    "#python programme to check if a string is palindrome or not\n",
    "\n",
    "x = \"abhilasha\"\n",
    "\n",
    "w = \" \"\n",
    "\n",
    "for i in x:\n",
    "    w = i + w\n",
    "\n",
    "    \n",
    "if (x == w):\n",
    "    \n",
    "    print(\"no\")\n",
    "\n",
    "    \n",
    "else:\n",
    "    print(\"yes\")\n",
    "    "
   ]
  },
  {
   "cell_type": "markdown",
   "id": "1759fd84",
   "metadata": {},
   "source": [
    "# Q.14"
   ]
  },
  {
   "cell_type": "markdown",
   "id": "c62ccdc7",
   "metadata": {},
   "source": [
    "### solution"
   ]
  },
  {
   "cell_type": "code",
   "execution_count": 17,
   "id": "08015a52",
   "metadata": {},
   "outputs": [
    {
     "name": "stdout",
     "output_type": "stream",
     "text": [
      "Enter base:10\n",
      "Enter height:20\n",
      "hypotenuse= 22.360679774997898\n"
     ]
    }
   ],
   "source": [
    "\n",
    "import math\n",
    "\n",
    "\n",
    "a = float(input(\"Enter base:\"))\n",
    "\n",
    "b = float(input(\"Enter height:\"))\n",
    "\n",
    "\n",
    "c = math.sqrt(a**2+b**2)\n",
    "\n",
    "print(\"hypotenuse=\", c)"
   ]
  },
  {
   "cell_type": "markdown",
   "id": "21cf0cae",
   "metadata": {},
   "source": [
    "# Q.15"
   ]
  },
  {
   "cell_type": "markdown",
   "id": "0a59e8a1",
   "metadata": {},
   "source": [
    "### solution"
   ]
  },
  {
   "cell_type": "code",
   "execution_count": 18,
   "id": "0e9e379b",
   "metadata": {},
   "outputs": [
    {
     "name": "stdout",
     "output_type": "stream",
     "text": [
      "abhilasha\n",
      "a--3\n",
      "b--1\n",
      "h--2\n",
      "i--1\n",
      "l--1\n",
      "a--3\n",
      "s--1\n",
      "h--2\n",
      "a--3\n"
     ]
    }
   ],
   "source": [
    "s = input()\n",
    "\n",
    "t = s.lower()\n",
    "\n",
    "for i in range(len(s)):\n",
    "    \n",
    "    b = t.count(t[i])\n",
    "    \n",
    "    print(\"{}--{}\".format(s[i], b))"
   ]
  },
  {
   "cell_type": "code",
   "execution_count": null,
   "id": "de8d1878",
   "metadata": {},
   "outputs": [],
   "source": []
  },
  {
   "cell_type": "code",
   "execution_count": null,
   "id": "461fb3ea",
   "metadata": {},
   "outputs": [],
   "source": []
  }
 ],
 "metadata": {
  "kernelspec": {
   "display_name": "Python 3 (ipykernel)",
   "language": "python",
   "name": "python3"
  },
  "language_info": {
   "codemirror_mode": {
    "name": "ipython",
    "version": 3
   },
   "file_extension": ".py",
   "mimetype": "text/x-python",
   "name": "python",
   "nbconvert_exporter": "python",
   "pygments_lexer": "ipython3",
   "version": "3.9.7"
  }
 },
 "nbformat": 4,
 "nbformat_minor": 5
}
