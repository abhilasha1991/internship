{
 "cells": [
  {
   "cell_type": "markdown",
   "id": "89c8dcf7",
   "metadata": {},
   "source": [
    "## Problem statement:\n",
    "The proliferation of social media enables people to express their opinions widely online. However, at the same time, this has resulted in the emergence of conflict and hate, making online environments uninviting for users. Although researchers have found that hate is a problem across multiple platforms, there is a lack of models for online hate detection.\n",
    "Online hate, described as abusive language, aggression, cyberbullying, hatefulness and many others has been identified as a major threat on online social media platforms. Social media platforms are the most prominent grounds for such toxic behaviour.   \n",
    "There has been a remarkable increase in the cases of cyberbullying and trolls on various social media platforms. Many celebrities and influences are facing backlashes from people and have to come across hateful and offensive comments. This can take a toll on anyone and affect them mentally leading to depression, mental illness, self-hatred and suicidal thoughts.    \n",
    "Internet comments are bastions of hatred and vitriol. While online anonymity has provided a new outlet for aggression and hate speech, machine learning can be used to fight it. The problem we sought to solve was the tagging of internet comments that are aggressive towards other users. This means that insults to third parties such as celebrities will be tagged as unoffensive, but “u are an idiot” is clearly offensive.\n",
    "Our goal is to build a prototype of online hate and abuse comment classifier which can used to classify hate and offensive comments so that it can be controlled and restricted from spreading hatred and cyberbullying. \n"
   ]
  },
  {
   "cell_type": "code",
   "execution_count": 1,
   "id": "a4f3a3bd",
   "metadata": {},
   "outputs": [],
   "source": [
    "#importing essential libraries\n",
    "\n",
    "import pandas as pd \n",
    "import numpy as np\n",
    "import matplotlib.pyplot as plt\n",
    "import seaborn as sns\n",
    "from sklearn.model_selection import train_test_split,GridSearchCV,cross_val_score\n",
    "from sklearn.preprocessing import StandardScaler,MinMaxScaler,power_transform\n",
    "from sklearn.linear_model import LinearRegression,LogisticRegression\n",
    "from sklearn.metrics import r2_score, mean_squared_error,accuracy_score,roc_auc_score,roc_curve,confusion_matrix,classification_report\n",
    "from sklearn.neighbors import KNeighborsClassifier\n",
    "from sklearn.ensemble import AdaBoostRegressor,GradientBoostingClassifier\n",
    "import warnings\n",
    "warnings.filterwarnings('ignore')\n",
    "from sklearn import preprocessing\n",
    "import scipy.stats as stats\n",
    "from scipy.stats import zscore\n",
    "from sklearn.svm import SVC\n",
    "from sklearn.tree import DecisionTreeClassifier\n",
    "from sklearn.naive_bayes import MultinomialNB\n",
    "import pickle"
   ]
  },
  {
   "cell_type": "code",
   "execution_count": 2,
   "id": "6322e227",
   "metadata": {},
   "outputs": [],
   "source": [
    "#loading the dataset\n",
    "df_train=pd.read_csv(r\"file:///C:\\Users\\anand\\AppData\\Local\\Temp\\AweZip\\Temp1\\AweZip3\\Malignant%20Comments%20Classifier%20Project\\train.csv\")"
   ]
  },
  {
   "cell_type": "code",
   "execution_count": 3,
   "id": "88611f8e",
   "metadata": {},
   "outputs": [
    {
     "data": {
      "text/html": [
       "<div>\n",
       "<style scoped>\n",
       "    .dataframe tbody tr th:only-of-type {\n",
       "        vertical-align: middle;\n",
       "    }\n",
       "\n",
       "    .dataframe tbody tr th {\n",
       "        vertical-align: top;\n",
       "    }\n",
       "\n",
       "    .dataframe thead th {\n",
       "        text-align: right;\n",
       "    }\n",
       "</style>\n",
       "<table border=\"1\" class=\"dataframe\">\n",
       "  <thead>\n",
       "    <tr style=\"text-align: right;\">\n",
       "      <th></th>\n",
       "      <th>id</th>\n",
       "      <th>comment_text</th>\n",
       "      <th>malignant</th>\n",
       "      <th>highly_malignant</th>\n",
       "      <th>rude</th>\n",
       "      <th>threat</th>\n",
       "      <th>abuse</th>\n",
       "      <th>loathe</th>\n",
       "    </tr>\n",
       "  </thead>\n",
       "  <tbody>\n",
       "    <tr>\n",
       "      <th>0</th>\n",
       "      <td>0000997932d777bf</td>\n",
       "      <td>Explanation\\nWhy the edits made under my usern...</td>\n",
       "      <td>0</td>\n",
       "      <td>0</td>\n",
       "      <td>0</td>\n",
       "      <td>0</td>\n",
       "      <td>0</td>\n",
       "      <td>0</td>\n",
       "    </tr>\n",
       "    <tr>\n",
       "      <th>1</th>\n",
       "      <td>000103f0d9cfb60f</td>\n",
       "      <td>D'aww! He matches this background colour I'm s...</td>\n",
       "      <td>0</td>\n",
       "      <td>0</td>\n",
       "      <td>0</td>\n",
       "      <td>0</td>\n",
       "      <td>0</td>\n",
       "      <td>0</td>\n",
       "    </tr>\n",
       "    <tr>\n",
       "      <th>2</th>\n",
       "      <td>000113f07ec002fd</td>\n",
       "      <td>Hey man, I'm really not trying to edit war. It...</td>\n",
       "      <td>0</td>\n",
       "      <td>0</td>\n",
       "      <td>0</td>\n",
       "      <td>0</td>\n",
       "      <td>0</td>\n",
       "      <td>0</td>\n",
       "    </tr>\n",
       "    <tr>\n",
       "      <th>3</th>\n",
       "      <td>0001b41b1c6bb37e</td>\n",
       "      <td>\"\\nMore\\nI can't make any real suggestions on ...</td>\n",
       "      <td>0</td>\n",
       "      <td>0</td>\n",
       "      <td>0</td>\n",
       "      <td>0</td>\n",
       "      <td>0</td>\n",
       "      <td>0</td>\n",
       "    </tr>\n",
       "    <tr>\n",
       "      <th>4</th>\n",
       "      <td>0001d958c54c6e35</td>\n",
       "      <td>You, sir, are my hero. Any chance you remember...</td>\n",
       "      <td>0</td>\n",
       "      <td>0</td>\n",
       "      <td>0</td>\n",
       "      <td>0</td>\n",
       "      <td>0</td>\n",
       "      <td>0</td>\n",
       "    </tr>\n",
       "    <tr>\n",
       "      <th>...</th>\n",
       "      <td>...</td>\n",
       "      <td>...</td>\n",
       "      <td>...</td>\n",
       "      <td>...</td>\n",
       "      <td>...</td>\n",
       "      <td>...</td>\n",
       "      <td>...</td>\n",
       "      <td>...</td>\n",
       "    </tr>\n",
       "    <tr>\n",
       "      <th>159566</th>\n",
       "      <td>ffe987279560d7ff</td>\n",
       "      <td>\":::::And for the second time of asking, when ...</td>\n",
       "      <td>0</td>\n",
       "      <td>0</td>\n",
       "      <td>0</td>\n",
       "      <td>0</td>\n",
       "      <td>0</td>\n",
       "      <td>0</td>\n",
       "    </tr>\n",
       "    <tr>\n",
       "      <th>159567</th>\n",
       "      <td>ffea4adeee384e90</td>\n",
       "      <td>You should be ashamed of yourself \\n\\nThat is ...</td>\n",
       "      <td>0</td>\n",
       "      <td>0</td>\n",
       "      <td>0</td>\n",
       "      <td>0</td>\n",
       "      <td>0</td>\n",
       "      <td>0</td>\n",
       "    </tr>\n",
       "    <tr>\n",
       "      <th>159568</th>\n",
       "      <td>ffee36eab5c267c9</td>\n",
       "      <td>Spitzer \\n\\nUmm, theres no actual article for ...</td>\n",
       "      <td>0</td>\n",
       "      <td>0</td>\n",
       "      <td>0</td>\n",
       "      <td>0</td>\n",
       "      <td>0</td>\n",
       "      <td>0</td>\n",
       "    </tr>\n",
       "    <tr>\n",
       "      <th>159569</th>\n",
       "      <td>fff125370e4aaaf3</td>\n",
       "      <td>And it looks like it was actually you who put ...</td>\n",
       "      <td>0</td>\n",
       "      <td>0</td>\n",
       "      <td>0</td>\n",
       "      <td>0</td>\n",
       "      <td>0</td>\n",
       "      <td>0</td>\n",
       "    </tr>\n",
       "    <tr>\n",
       "      <th>159570</th>\n",
       "      <td>fff46fc426af1f9a</td>\n",
       "      <td>\"\\nAnd ... I really don't think you understand...</td>\n",
       "      <td>0</td>\n",
       "      <td>0</td>\n",
       "      <td>0</td>\n",
       "      <td>0</td>\n",
       "      <td>0</td>\n",
       "      <td>0</td>\n",
       "    </tr>\n",
       "  </tbody>\n",
       "</table>\n",
       "<p>159571 rows × 8 columns</p>\n",
       "</div>"
      ],
      "text/plain": [
       "                      id                                       comment_text  \\\n",
       "0       0000997932d777bf  Explanation\\nWhy the edits made under my usern...   \n",
       "1       000103f0d9cfb60f  D'aww! He matches this background colour I'm s...   \n",
       "2       000113f07ec002fd  Hey man, I'm really not trying to edit war. It...   \n",
       "3       0001b41b1c6bb37e  \"\\nMore\\nI can't make any real suggestions on ...   \n",
       "4       0001d958c54c6e35  You, sir, are my hero. Any chance you remember...   \n",
       "...                  ...                                                ...   \n",
       "159566  ffe987279560d7ff  \":::::And for the second time of asking, when ...   \n",
       "159567  ffea4adeee384e90  You should be ashamed of yourself \\n\\nThat is ...   \n",
       "159568  ffee36eab5c267c9  Spitzer \\n\\nUmm, theres no actual article for ...   \n",
       "159569  fff125370e4aaaf3  And it looks like it was actually you who put ...   \n",
       "159570  fff46fc426af1f9a  \"\\nAnd ... I really don't think you understand...   \n",
       "\n",
       "        malignant  highly_malignant  rude  threat  abuse  loathe  \n",
       "0               0                 0     0       0      0       0  \n",
       "1               0                 0     0       0      0       0  \n",
       "2               0                 0     0       0      0       0  \n",
       "3               0                 0     0       0      0       0  \n",
       "4               0                 0     0       0      0       0  \n",
       "...           ...               ...   ...     ...    ...     ...  \n",
       "159566          0                 0     0       0      0       0  \n",
       "159567          0                 0     0       0      0       0  \n",
       "159568          0                 0     0       0      0       0  \n",
       "159569          0                 0     0       0      0       0  \n",
       "159570          0                 0     0       0      0       0  \n",
       "\n",
       "[159571 rows x 8 columns]"
      ]
     },
     "execution_count": 3,
     "metadata": {},
     "output_type": "execute_result"
    }
   ],
   "source": [
    "df_train"
   ]
  },
  {
   "cell_type": "code",
   "execution_count": 4,
   "id": "5109edc6",
   "metadata": {},
   "outputs": [],
   "source": [
    "#loading the test dataset\n",
    "df_test=pd.read_csv(r\"file:///C:\\Users\\anand\\AppData\\Local\\Temp\\AweZip\\Temp1\\AweZip4\\Malignant%20Comments%20Classifier%20Project\\test.csv\")"
   ]
  },
  {
   "cell_type": "code",
   "execution_count": 5,
   "id": "7e0700a9",
   "metadata": {},
   "outputs": [
    {
     "data": {
      "text/html": [
       "<div>\n",
       "<style scoped>\n",
       "    .dataframe tbody tr th:only-of-type {\n",
       "        vertical-align: middle;\n",
       "    }\n",
       "\n",
       "    .dataframe tbody tr th {\n",
       "        vertical-align: top;\n",
       "    }\n",
       "\n",
       "    .dataframe thead th {\n",
       "        text-align: right;\n",
       "    }\n",
       "</style>\n",
       "<table border=\"1\" class=\"dataframe\">\n",
       "  <thead>\n",
       "    <tr style=\"text-align: right;\">\n",
       "      <th></th>\n",
       "      <th>id</th>\n",
       "      <th>comment_text</th>\n",
       "    </tr>\n",
       "  </thead>\n",
       "  <tbody>\n",
       "    <tr>\n",
       "      <th>0</th>\n",
       "      <td>00001cee341fdb12</td>\n",
       "      <td>Yo bitch Ja Rule is more succesful then you'll...</td>\n",
       "    </tr>\n",
       "    <tr>\n",
       "      <th>1</th>\n",
       "      <td>0000247867823ef7</td>\n",
       "      <td>== From RfC == \\n\\n The title is fine as it is...</td>\n",
       "    </tr>\n",
       "    <tr>\n",
       "      <th>2</th>\n",
       "      <td>00013b17ad220c46</td>\n",
       "      <td>\" \\n\\n == Sources == \\n\\n * Zawe Ashton on Lap...</td>\n",
       "    </tr>\n",
       "    <tr>\n",
       "      <th>3</th>\n",
       "      <td>00017563c3f7919a</td>\n",
       "      <td>:If you have a look back at the source, the in...</td>\n",
       "    </tr>\n",
       "    <tr>\n",
       "      <th>4</th>\n",
       "      <td>00017695ad8997eb</td>\n",
       "      <td>I don't anonymously edit articles at all.</td>\n",
       "    </tr>\n",
       "    <tr>\n",
       "      <th>...</th>\n",
       "      <td>...</td>\n",
       "      <td>...</td>\n",
       "    </tr>\n",
       "    <tr>\n",
       "      <th>153159</th>\n",
       "      <td>fffcd0960ee309b5</td>\n",
       "      <td>. \\n i totally agree, this stuff is nothing bu...</td>\n",
       "    </tr>\n",
       "    <tr>\n",
       "      <th>153160</th>\n",
       "      <td>fffd7a9a6eb32c16</td>\n",
       "      <td>== Throw from out field to home plate. == \\n\\n...</td>\n",
       "    </tr>\n",
       "    <tr>\n",
       "      <th>153161</th>\n",
       "      <td>fffda9e8d6fafa9e</td>\n",
       "      <td>\" \\n\\n == Okinotorishima categories == \\n\\n I ...</td>\n",
       "    </tr>\n",
       "    <tr>\n",
       "      <th>153162</th>\n",
       "      <td>fffe8f1340a79fc2</td>\n",
       "      <td>\" \\n\\n == \"\"One of the founding nations of the...</td>\n",
       "    </tr>\n",
       "    <tr>\n",
       "      <th>153163</th>\n",
       "      <td>ffffce3fb183ee80</td>\n",
       "      <td>\" \\n :::Stop already. Your bullshit is not wel...</td>\n",
       "    </tr>\n",
       "  </tbody>\n",
       "</table>\n",
       "<p>153164 rows × 2 columns</p>\n",
       "</div>"
      ],
      "text/plain": [
       "                      id                                       comment_text\n",
       "0       00001cee341fdb12  Yo bitch Ja Rule is more succesful then you'll...\n",
       "1       0000247867823ef7  == From RfC == \\n\\n The title is fine as it is...\n",
       "2       00013b17ad220c46  \" \\n\\n == Sources == \\n\\n * Zawe Ashton on Lap...\n",
       "3       00017563c3f7919a  :If you have a look back at the source, the in...\n",
       "4       00017695ad8997eb          I don't anonymously edit articles at all.\n",
       "...                  ...                                                ...\n",
       "153159  fffcd0960ee309b5  . \\n i totally agree, this stuff is nothing bu...\n",
       "153160  fffd7a9a6eb32c16  == Throw from out field to home plate. == \\n\\n...\n",
       "153161  fffda9e8d6fafa9e  \" \\n\\n == Okinotorishima categories == \\n\\n I ...\n",
       "153162  fffe8f1340a79fc2  \" \\n\\n == \"\"One of the founding nations of the...\n",
       "153163  ffffce3fb183ee80  \" \\n :::Stop already. Your bullshit is not wel...\n",
       "\n",
       "[153164 rows x 2 columns]"
      ]
     },
     "execution_count": 5,
     "metadata": {},
     "output_type": "execute_result"
    }
   ],
   "source": [
    "df_test"
   ]
  },
  {
   "cell_type": "code",
   "execution_count": 6,
   "id": "d18c075d",
   "metadata": {},
   "outputs": [
    {
     "name": "stdout",
     "output_type": "stream",
     "text": [
      "train shape is  (159571, 8)\n",
      "test shape is  (153164, 2)\n",
      "test info <bound method DataFrame.info of                       id                                       comment_text\n",
      "0       00001cee341fdb12  Yo bitch Ja Rule is more succesful then you'll...\n",
      "1       0000247867823ef7  == From RfC == \\n\\n The title is fine as it is...\n",
      "2       00013b17ad220c46  \" \\n\\n == Sources == \\n\\n * Zawe Ashton on Lap...\n",
      "3       00017563c3f7919a  :If you have a look back at the source, the in...\n",
      "4       00017695ad8997eb          I don't anonymously edit articles at all.\n",
      "...                  ...                                                ...\n",
      "153159  fffcd0960ee309b5  . \\n i totally agree, this stuff is nothing bu...\n",
      "153160  fffd7a9a6eb32c16  == Throw from out field to home plate. == \\n\\n...\n",
      "153161  fffda9e8d6fafa9e  \" \\n\\n == Okinotorishima categories == \\n\\n I ...\n",
      "153162  fffe8f1340a79fc2  \" \\n\\n == \"\"One of the founding nations of the...\n",
      "153163  ffffce3fb183ee80  \" \\n :::Stop already. Your bullshit is not wel...\n",
      "\n",
      "[153164 rows x 2 columns]>\n",
      "train info <bound method DataFrame.info of                       id                                       comment_text  \\\n",
      "0       0000997932d777bf  Explanation\\nWhy the edits made under my usern...   \n",
      "1       000103f0d9cfb60f  D'aww! He matches this background colour I'm s...   \n",
      "2       000113f07ec002fd  Hey man, I'm really not trying to edit war. It...   \n",
      "3       0001b41b1c6bb37e  \"\\nMore\\nI can't make any real suggestions on ...   \n",
      "4       0001d958c54c6e35  You, sir, are my hero. Any chance you remember...   \n",
      "...                  ...                                                ...   \n",
      "159566  ffe987279560d7ff  \":::::And for the second time of asking, when ...   \n",
      "159567  ffea4adeee384e90  You should be ashamed of yourself \\n\\nThat is ...   \n",
      "159568  ffee36eab5c267c9  Spitzer \\n\\nUmm, theres no actual article for ...   \n",
      "159569  fff125370e4aaaf3  And it looks like it was actually you who put ...   \n",
      "159570  fff46fc426af1f9a  \"\\nAnd ... I really don't think you understand...   \n",
      "\n",
      "        malignant  highly_malignant  rude  threat  abuse  loathe  \n",
      "0               0                 0     0       0      0       0  \n",
      "1               0                 0     0       0      0       0  \n",
      "2               0                 0     0       0      0       0  \n",
      "3               0                 0     0       0      0       0  \n",
      "4               0                 0     0       0      0       0  \n",
      "...           ...               ...   ...     ...    ...     ...  \n",
      "159566          0                 0     0       0      0       0  \n",
      "159567          0                 0     0       0      0       0  \n",
      "159568          0                 0     0       0      0       0  \n",
      "159569          0                 0     0       0      0       0  \n",
      "159570          0                 0     0       0      0       0  \n",
      "\n",
      "[159571 rows x 8 columns]>\n"
     ]
    }
   ],
   "source": [
    "#shape of the dataframe\n",
    "print('train shape is ',df_train.shape)\n",
    "print('test shape is ',df_test.shape)\n",
    "print('test info',df_test.info)\n",
    "\n",
    "\n",
    "print('train info',df_train.info)"
   ]
  },
  {
   "cell_type": "code",
   "execution_count": 7,
   "id": "1e71f65e",
   "metadata": {},
   "outputs": [
    {
     "name": "stdout",
     "output_type": "stream",
     "text": [
      "train data Set descriptin            malignant  highly_malignant           rude         threat  \\\n",
      "count  159571.000000     159571.000000  159571.000000  159571.000000   \n",
      "mean        0.095844          0.009996       0.052948       0.002996   \n",
      "std         0.294379          0.099477       0.223931       0.054650   \n",
      "min         0.000000          0.000000       0.000000       0.000000   \n",
      "25%         0.000000          0.000000       0.000000       0.000000   \n",
      "50%         0.000000          0.000000       0.000000       0.000000   \n",
      "75%         0.000000          0.000000       0.000000       0.000000   \n",
      "max         1.000000          1.000000       1.000000       1.000000   \n",
      "\n",
      "               abuse         loathe  \n",
      "count  159571.000000  159571.000000  \n",
      "mean        0.049364       0.008805  \n",
      "std         0.216627       0.093420  \n",
      "min         0.000000       0.000000  \n",
      "25%         0.000000       0.000000  \n",
      "50%         0.000000       0.000000  \n",
      "75%         0.000000       0.000000  \n",
      "max         1.000000       1.000000  \n",
      "test data Set descriptin                       id                                       comment_text\n",
      "count             153164                                             153164\n",
      "unique            153164                                             153164\n",
      "top     00001cee341fdb12  Yo bitch Ja Rule is more succesful then you'll...\n",
      "freq                   1                                                  1\n"
     ]
    }
   ],
   "source": [
    "#descriptive statestics\n",
    "print('train data Set descriptin',df_train.describe())\n",
    "print('test data Set descriptin',df_test.describe())"
   ]
  },
  {
   "cell_type": "code",
   "execution_count": 8,
   "id": "400ea7dc",
   "metadata": {},
   "outputs": [
    {
     "name": "stdout",
     "output_type": "stream",
     "text": [
      "id                  0\n",
      "comment_text        0\n",
      "malignant           0\n",
      "highly_malignant    0\n",
      "rude                0\n",
      "threat              0\n",
      "abuse               0\n",
      "loathe              0\n",
      "dtype: int64\n",
      "AxesSubplot(0.125,0.125;0.62x0.755)\n"
     ]
    },
    {
     "data": {
      "image/png": "[encoded data removed]",
      "text/plain": [
       "<Figure size 432x288 with 2 Axes>"
      ]
     },
     "metadata": {
      "needs_background": "light"
     },
     "output_type": "display_data"
    }
   ],
   "source": [
    "# checking null values\n",
    "print(df_train.isnull().sum())\n",
    "print(sns.heatmap(df_train.isnull()))"
   ]
  },
  {
   "cell_type": "code",
   "execution_count": 9,
   "id": "6c79f70a",
   "metadata": {},
   "outputs": [
    {
     "name": "stdout",
     "output_type": "stream",
     "text": [
      "                  malignant  highly_malignant      rude    threat     abuse  \\\n",
      "malignant          1.000000          0.308619  0.676515  0.157058  0.647518   \n",
      "highly_malignant   0.308619          1.000000  0.403014  0.123601  0.375807   \n",
      "rude               0.676515          0.403014  1.000000  0.141179  0.741272   \n",
      "threat             0.157058          0.123601  0.141179  1.000000  0.150022   \n",
      "abuse              0.647518          0.375807  0.741272  0.150022  1.000000   \n",
      "loathe             0.266009          0.201600  0.286867  0.115128  0.337736   \n",
      "\n",
      "                    loathe  \n",
      "malignant         0.266009  \n",
      "highly_malignant  0.201600  \n",
      "rude              0.286867  \n",
      "threat            0.115128  \n",
      "abuse             0.337736  \n",
      "loathe            1.000000  \n",
      "AxesSubplot(0.125,0.125;0.62x0.755)\n"
     ]
    },
    {
     "data": {
      "image/png": "[encoded data removed]",
      "text/plain": [
       "<Figure size 432x288 with 2 Axes>"
      ]
     },
     "metadata": {
      "needs_background": "light"
     },
     "output_type": "display_data"
    }
   ],
   "source": [
    "## checking correlation in dataset\n",
    "print(df_train.corr())\n",
    "print(sns.heatmap(df_train.corr()))"
   ]
  },
  {
   "cell_type": "code",
   "execution_count": 10,
   "id": "ec78c2c5",
   "metadata": {},
   "outputs": [
    {
     "data": {
      "text/plain": [
       "malignant            2.745854\n",
       "highly_malignant     9.851722\n",
       "rude                 3.992817\n",
       "threat              18.189001\n",
       "abuse                4.160540\n",
       "loathe              10.515923\n",
       "dtype: float64"
      ]
     },
     "execution_count": 10,
     "metadata": {},
     "output_type": "execute_result"
    }
   ],
   "source": [
    "# checking the skewness for the features:\n",
    "df_train.skew()"
   ]
  },
  {
   "cell_type": "code",
   "execution_count": 11,
   "id": "c50ecfd2",
   "metadata": {},
   "outputs": [
    {
     "name": "stdout",
     "output_type": "stream",
     "text": [
      "malignant\n",
      "\n",
      "\n",
      "0    144277\n",
      "1     15294\n",
      "Name: malignant, dtype: int64\n"
     ]
    },
    {
     "data": {
      "image/png": "[encoded data removed]",
      "text/plain": [
       "<Figure size 432x288 with 1 Axes>"
      ]
     },
     "metadata": {
      "needs_background": "light"
     },
     "output_type": "display_data"
    },
    {
     "name": "stdout",
     "output_type": "stream",
     "text": [
      "highly_malignant\n",
      "\n",
      "\n",
      "0    157976\n",
      "1      1595\n",
      "Name: highly_malignant, dtype: int64\n"
     ]
    },
    {
     "data": {
      "image/png": "[encoded data removed]",
      "text/plain": [
       "<Figure size 432x288 with 1 Axes>"
      ]
     },
     "metadata": {
      "needs_background": "light"
     },
     "output_type": "display_data"
    },
    {
     "name": "stdout",
     "output_type": "stream",
     "text": [
      "loathe\n",
      "\n",
      "\n",
      "0    158166\n",
      "1      1405\n",
      "Name: loathe, dtype: int64\n"
     ]
    },
    {
     "data": {
      "image/png": "[encoded data removed]",
      "text/plain": [
       "<Figure size 432x288 with 1 Axes>"
      ]
     },
     "metadata": {
      "needs_background": "light"
     },
     "output_type": "display_data"
    },
    {
     "name": "stdout",
     "output_type": "stream",
     "text": [
      "rude\n",
      "\n",
      "\n",
      "0    151122\n",
      "1      8449\n",
      "Name: rude, dtype: int64\n"
     ]
    },
    {
     "data": {
      "image/png": "[encoded data removed]",
      "text/plain": [
       "<Figure size 432x288 with 1 Axes>"
      ]
     },
     "metadata": {
      "needs_background": "light"
     },
     "output_type": "display_data"
    },
    {
     "name": "stdout",
     "output_type": "stream",
     "text": [
      "abuse\n",
      "\n",
      "\n",
      "0    151694\n",
      "1      7877\n",
      "Name: abuse, dtype: int64\n"
     ]
    },
    {
     "data": {
      "image/png": "[encoded data removed]",
      "text/plain": [
       "<Figure size 432x288 with 1 Axes>"
      ]
     },
     "metadata": {
      "needs_background": "light"
     },
     "output_type": "display_data"
    },
    {
     "name": "stdout",
     "output_type": "stream",
     "text": [
      "threat\n",
      "\n",
      "\n",
      "0    159093\n",
      "1       478\n",
      "Name: threat, dtype: int64\n"
     ]
    },
    {
     "data": {
      "image/png": "[encoded data removed]",
      "text/plain": [
       "<Figure size 432x288 with 1 Axes>"
      ]
     },
     "metadata": {
      "needs_background": "light"
     },
     "output_type": "display_data"
    }
   ],
   "source": [
    "#visualisation\n",
    "col=['malignant','highly_malignant','loathe','rude','abuse','threat']\n",
    "for i in col:\n",
    "    print(i)\n",
    "    print(\"\\n\")\n",
    "    print(df_train[i].value_counts())\n",
    "    sns.countplot(df_train[i])\n",
    "    plt.show()"
   ]
  },
  {
   "cell_type": "code",
   "execution_count": 12,
   "id": "e36422ab",
   "metadata": {},
   "outputs": [
    {
     "data": {
      "text/html": [
       "<div>\n",
       "<style scoped>\n",
       "    .dataframe tbody tr th:only-of-type {\n",
       "        vertical-align: middle;\n",
       "    }\n",
       "\n",
       "    .dataframe tbody tr th {\n",
       "        vertical-align: top;\n",
       "    }\n",
       "\n",
       "    .dataframe thead th {\n",
       "        text-align: right;\n",
       "    }\n",
       "</style>\n",
       "<table border=\"1\" class=\"dataframe\">\n",
       "  <thead>\n",
       "    <tr style=\"text-align: right;\">\n",
       "      <th></th>\n",
       "      <th>id</th>\n",
       "      <th>comment_text</th>\n",
       "      <th>malignant</th>\n",
       "      <th>highly_malignant</th>\n",
       "      <th>rude</th>\n",
       "      <th>threat</th>\n",
       "      <th>abuse</th>\n",
       "      <th>loathe</th>\n",
       "      <th>length</th>\n",
       "    </tr>\n",
       "  </thead>\n",
       "  <tbody>\n",
       "    <tr>\n",
       "      <th>0</th>\n",
       "      <td>0000997932d777bf</td>\n",
       "      <td>Explanation\\nWhy the edits made under my usern...</td>\n",
       "      <td>0</td>\n",
       "      <td>0</td>\n",
       "      <td>0</td>\n",
       "      <td>0</td>\n",
       "      <td>0</td>\n",
       "      <td>0</td>\n",
       "      <td>264</td>\n",
       "    </tr>\n",
       "    <tr>\n",
       "      <th>1</th>\n",
       "      <td>000103f0d9cfb60f</td>\n",
       "      <td>D'aww! He matches this background colour I'm s...</td>\n",
       "      <td>0</td>\n",
       "      <td>0</td>\n",
       "      <td>0</td>\n",
       "      <td>0</td>\n",
       "      <td>0</td>\n",
       "      <td>0</td>\n",
       "      <td>112</td>\n",
       "    </tr>\n",
       "  </tbody>\n",
       "</table>\n",
       "</div>"
      ],
      "text/plain": [
       "                 id                                       comment_text  \\\n",
       "0  0000997932d777bf  Explanation\\nWhy the edits made under my usern...   \n",
       "1  000103f0d9cfb60f  D'aww! He matches this background colour I'm s...   \n",
       "\n",
       "   malignant  highly_malignant  rude  threat  abuse  loathe  length  \n",
       "0          0                 0     0       0      0       0     264  \n",
       "1          0                 0     0       0      0       0     112  "
      ]
     },
     "execution_count": 12,
     "metadata": {},
     "output_type": "execute_result"
    }
   ],
   "source": [
    "df_train['length'] = df_train['comment_text'].str.len()\n",
    "df_train.head(2)"
   ]
  },
  {
   "cell_type": "code",
   "execution_count": 13,
   "id": "9aa930a3",
   "metadata": {},
   "outputs": [],
   "source": [
    "from nltk.stem import WordNetLemmatizer\n",
    "import nltk\n",
    "import string"
   ]
  },
  {
   "cell_type": "code",
   "execution_count": 14,
   "id": "55effd3f",
   "metadata": {},
   "outputs": [],
   "source": [
    "# Convert all messages to lower case\n",
    "df_train['comment_text'] = df_train['comment_text'].str.lower()\n",
    "\n",
    "# Replace email addresses with 'email'\n",
    "df_train['comment_text'] = df_train['comment_text'].str.replace(r'^.+@[^\\.].*\\.[a-z]{2,}$',\n",
    "                                 'emailaddress')\n",
    "\n",
    "# Replace URLs with 'webaddress'\n",
    "df_train['comment_text'] = df_train['comment_text'].str.replace(r'^http\\://[a-zA-Z0-9\\-\\.]+\\.[a-zA-Z]{2,3}(/\\S*)?$',\n",
    "                                  'webaddress')\n",
    "\n",
    "# Replace money symbols with 'moneysymb' (£ can by typed with ALT key + 156)\n",
    "df_train['comment_text'] = df_train['comment_text'].str.replace(r'£|\\$', 'dollers')\n",
    "    \n",
    "# Replace 10 digit phone numbers (formats include paranthesis, \n",
    "df_train['comment_text'] = df_train['comment_text'].str.replace(r'^\\(?[\\d]{3}\\)?[\\s-]?[\\d]{3}[\\s-]?[\\d]{4}$',\n",
    "                                  'phonenumber')\n",
    "\n",
    "    \n",
    "# Replace numbers with 'numbr'\n",
    "df_train['comment_text'] = df_train['comment_text'].str.replace(r'\\d+(\\.\\d+)?', 'numbr')\n",
    "\n",
    "\n",
    "df_train['comment_text'] = df_train['comment_text'].apply(lambda x: ' '.join(\n",
    "    term for term in x.split() if term not in string.punctuation))"
   ]
  },
  {
   "cell_type": "code",
   "execution_count": 15,
   "id": "5a651f8e",
   "metadata": {},
   "outputs": [
    {
     "data": {
      "text/html": [
       "<div>\n",
       "<style scoped>\n",
       "    .dataframe tbody tr th:only-of-type {\n",
       "        vertical-align: middle;\n",
       "    }\n",
       "\n",
       "    .dataframe tbody tr th {\n",
       "        vertical-align: top;\n",
       "    }\n",
       "\n",
       "    .dataframe thead th {\n",
       "        text-align: right;\n",
       "    }\n",
       "</style>\n",
       "<table border=\"1\" class=\"dataframe\">\n",
       "  <thead>\n",
       "    <tr style=\"text-align: right;\">\n",
       "      <th></th>\n",
       "      <th>id</th>\n",
       "      <th>comment_text</th>\n",
       "      <th>malignant</th>\n",
       "      <th>highly_malignant</th>\n",
       "      <th>rude</th>\n",
       "      <th>threat</th>\n",
       "      <th>abuse</th>\n",
       "      <th>loathe</th>\n",
       "      <th>length</th>\n",
       "      <th>clean_length</th>\n",
       "    </tr>\n",
       "  </thead>\n",
       "  <tbody>\n",
       "    <tr>\n",
       "      <th>0</th>\n",
       "      <td>0000997932d777bf</td>\n",
       "      <td>explanation why the edits made under my userna...</td>\n",
       "      <td>0</td>\n",
       "      <td>0</td>\n",
       "      <td>0</td>\n",
       "      <td>0</td>\n",
       "      <td>0</td>\n",
       "      <td>0</td>\n",
       "      <td>264</td>\n",
       "      <td>263</td>\n",
       "    </tr>\n",
       "    <tr>\n",
       "      <th>1</th>\n",
       "      <td>000103f0d9cfb60f</td>\n",
       "      <td>d'aww! he matches this background colour i'm s...</td>\n",
       "      <td>0</td>\n",
       "      <td>0</td>\n",
       "      <td>0</td>\n",
       "      <td>0</td>\n",
       "      <td>0</td>\n",
       "      <td>0</td>\n",
       "      <td>112</td>\n",
       "      <td>121</td>\n",
       "    </tr>\n",
       "    <tr>\n",
       "      <th>2</th>\n",
       "      <td>000113f07ec002fd</td>\n",
       "      <td>hey man, i'm really not trying to edit war. it...</td>\n",
       "      <td>0</td>\n",
       "      <td>0</td>\n",
       "      <td>0</td>\n",
       "      <td>0</td>\n",
       "      <td>0</td>\n",
       "      <td>0</td>\n",
       "      <td>233</td>\n",
       "      <td>233</td>\n",
       "    </tr>\n",
       "    <tr>\n",
       "      <th>3</th>\n",
       "      <td>0001b41b1c6bb37e</td>\n",
       "      <td>more i can't make any real suggestions on impr...</td>\n",
       "      <td>0</td>\n",
       "      <td>0</td>\n",
       "      <td>0</td>\n",
       "      <td>0</td>\n",
       "      <td>0</td>\n",
       "      <td>0</td>\n",
       "      <td>622</td>\n",
       "      <td>611</td>\n",
       "    </tr>\n",
       "    <tr>\n",
       "      <th>4</th>\n",
       "      <td>0001d958c54c6e35</td>\n",
       "      <td>you, sir, are my hero. any chance you remember...</td>\n",
       "      <td>0</td>\n",
       "      <td>0</td>\n",
       "      <td>0</td>\n",
       "      <td>0</td>\n",
       "      <td>0</td>\n",
       "      <td>0</td>\n",
       "      <td>67</td>\n",
       "      <td>67</td>\n",
       "    </tr>\n",
       "  </tbody>\n",
       "</table>\n",
       "</div>"
      ],
      "text/plain": [
       "                 id                                       comment_text  \\\n",
       "0  0000997932d777bf  explanation why the edits made under my userna...   \n",
       "1  000103f0d9cfb60f  d'aww! he matches this background colour i'm s...   \n",
       "2  000113f07ec002fd  hey man, i'm really not trying to edit war. it...   \n",
       "3  0001b41b1c6bb37e  more i can't make any real suggestions on impr...   \n",
       "4  0001d958c54c6e35  you, sir, are my hero. any chance you remember...   \n",
       "\n",
       "   malignant  highly_malignant  rude  threat  abuse  loathe  length  \\\n",
       "0          0                 0     0       0      0       0     264   \n",
       "1          0                 0     0       0      0       0     112   \n",
       "2          0                 0     0       0      0       0     233   \n",
       "3          0                 0     0       0      0       0     622   \n",
       "4          0                 0     0       0      0       0      67   \n",
       "\n",
       "   clean_length  \n",
       "0           263  \n",
       "1           121  \n",
       "2           233  \n",
       "3           611  \n",
       "4            67  "
      ]
     },
     "execution_count": 15,
     "metadata": {},
     "output_type": "execute_result"
    }
   ],
   "source": [
    "#checking the length of the string\n",
    "df_train['clean_length'] = df_train.comment_text.str.len()\n",
    "df_train.head()"
   ]
  },
  {
   "cell_type": "code",
   "execution_count": 16,
   "id": "e1ee59cd",
   "metadata": {},
   "outputs": [
    {
     "name": "stdout",
     "output_type": "stream",
     "text": [
      "Origian Length 62893130\n",
      "Clean Length 62505572\n"
     ]
    }
   ],
   "source": [
    "# Total length removal\n",
    "print ('Origian Length', df_train.length.sum())\n",
    "print ('Clean Length', df_train.clean_length.sum())"
   ]
  },
  {
   "cell_type": "code",
   "execution_count": 17,
   "id": "254b6448",
   "metadata": {},
   "outputs": [
    {
     "data": {
      "text/plain": [
       "<matplotlib.legend.Legend at 0x2140382f880>"
      ]
     },
     "execution_count": 17,
     "metadata": {},
     "output_type": "execute_result"
    },
    {
     "data": {
      "image/png": "[encoded data removed]",
      "text/plain": [
       "<Figure size 360x360 with 1 Axes>"
      ]
     },
     "metadata": {},
     "output_type": "display_data"
    }
   ],
   "source": [
    "#distribution of comments\n",
    "cols_target = ['malignant','highly_malignant','rude','threat','abuse','loathe']\n",
    "df_distribution = df_train[cols_target].sum()\\\n",
    "                            .to_frame()\\\n",
    "                            .rename(columns={0: 'count'})\\\n",
    "                            .sort_values('count')\n",
    "\n",
    "df_distribution.plot.pie(y='count',\n",
    "                                      title='Label distribution over comments',\n",
    "                                      figsize=(5, 5))\\\n",
    "                            .legend(loc='center left', bbox_to_anchor=(1.3, 0.5))"
   ]
  },
  {
   "cell_type": "code",
   "execution_count": 18,
   "id": "ac8686e3",
   "metadata": {},
   "outputs": [
    {
     "name": "stdout",
     "output_type": "stream",
     "text": [
      "0    143346\n",
      "1      6360\n",
      "3      4209\n",
      "2      3480\n",
      "4      1760\n",
      "5       385\n",
      "6        31\n",
      "Name: bad, dtype: int64\n",
      "0    143346\n",
      "1     16225\n",
      "Name: bad, dtype: int64\n"
     ]
    }
   ],
   "source": [
    "#combine the target columns\n",
    "target_data = df_train[cols_target]\n",
    "\n",
    "df_train['bad'] =df_train[cols_target].sum(axis =1)\n",
    "print(df_train['bad'].value_counts())\n",
    "df_train['bad'] = df_train['bad'] > 0 \n",
    "df_train['bad'] = df_train['bad'].astype(int)\n",
    "print(df_train['bad'].value_counts())"
   ]
  },
  {
   "cell_type": "code",
   "execution_count": 19,
   "id": "3d1f971a",
   "metadata": {},
   "outputs": [
    {
     "data": {
      "image/png": "[encoded data removed]",
      "text/plain": [
       "<Figure size 432x288 with 1 Axes>"
      ]
     },
     "metadata": {},
     "output_type": "display_data"
    }
   ],
   "source": [
    "sns.set()\n",
    "sns.countplot(x=\"bad\" , data = df_train)\n",
    "plt.show()"
   ]
  },
  {
   "cell_type": "code",
   "execution_count": 20,
   "id": "e0b0b75b",
   "metadata": {},
   "outputs": [],
   "source": [
    "#  Convert text into vectors using TF-IDF\n",
    "from sklearn.feature_extraction.text import TfidfVectorizer\n",
    "tf_vec = TfidfVectorizer(max_features = 10000, stop_words='english')\n",
    "features = tf_vec.fit_transform(df_train['comment_text'])\n",
    "x = features"
   ]
  },
  {
   "cell_type": "code",
   "execution_count": 21,
   "id": "114eaac2",
   "metadata": {},
   "outputs": [
    {
     "data": {
      "text/plain": [
       "((159571, 11), (153164, 2))"
      ]
     },
     "execution_count": 21,
     "metadata": {},
     "output_type": "execute_result"
    }
   ],
   "source": [
    "df_train.shape,df_test.shape"
   ]
  },
  {
   "cell_type": "code",
   "execution_count": 22,
   "id": "62c95d98",
   "metadata": {},
   "outputs": [],
   "source": [
    "#splitting the variables\n",
    "y=df_train['bad']\n",
    "x_train,x_test,y_train,y_test=train_test_split(x,y,random_state=56,test_size=.30)"
   ]
  },
  {
   "cell_type": "code",
   "execution_count": 23,
   "id": "6af17f6d",
   "metadata": {},
   "outputs": [
    {
     "data": {
      "text/plain": [
       "((111699,), (47872,))"
      ]
     },
     "execution_count": 23,
     "metadata": {},
     "output_type": "execute_result"
    }
   ],
   "source": [
    "y_train.shape,y_test.shape"
   ]
  },
  {
   "cell_type": "code",
   "execution_count": 24,
   "id": "01ed0edc",
   "metadata": {},
   "outputs": [
    {
     "name": "stdout",
     "output_type": "stream",
     "text": [
      "Training accuracy is 0.959731062945953\n",
      "Test accuracy is 0.9554854612299465\n",
      "[[42731   219]\n",
      " [ 1912  3010]]\n",
      "              precision    recall  f1-score   support\n",
      "\n",
      "           0       0.96      0.99      0.98     42950\n",
      "           1       0.93      0.61      0.74      4922\n",
      "\n",
      "    accuracy                           0.96     47872\n",
      "   macro avg       0.94      0.80      0.86     47872\n",
      "weighted avg       0.95      0.96      0.95     47872\n",
      "\n"
     ]
    }
   ],
   "source": [
    "# LogisticRegression\n",
    "LG = LogisticRegression(C=1, max_iter = 3000)\n",
    "\n",
    "LG.fit(x_train, y_train)\n",
    "\n",
    "y_pred_train = LG.predict(x_train)\n",
    "print('Training accuracy is {}'.format(accuracy_score(y_train, y_pred_train)))\n",
    "y_pred_test = LG.predict(x_test)\n",
    "print('Test accuracy is {}'.format(accuracy_score(y_test,y_pred_test)))\n",
    "print(confusion_matrix(y_test,y_pred_test))\n",
    "print(classification_report(y_test,y_pred_test))"
   ]
  },
  {
   "cell_type": "code",
   "execution_count": 25,
   "id": "e84daa10",
   "metadata": {},
   "outputs": [],
   "source": [
    "from sklearn.linear_model import RidgeClassifier\n",
    "from sklearn.tree import DecisionTreeClassifier\n",
    "from sklearn.svm import SVC\n",
    "from sklearn.ensemble import AdaBoostClassifier\n",
    "from sklearn.ensemble import GradientBoostingClassifier\n",
    "\n",
    "#trying different models\n",
    "from sklearn.metrics import classification_report\n",
    "RD_model= RidgeClassifier()\n",
    "DT_model= DecisionTreeClassifier()\n",
    "SV_model= SVC()\n",
    "KNR_model= KNeighborsClassifier()\n",
    "ADA_model=AdaBoostClassifier()\n",
    "GB_model= GradientBoostingClassifier()\n",
    "\n"
   ]
  },
  {
   "cell_type": "code",
   "execution_count": 27,
   "id": "477e5528",
   "metadata": {},
   "outputs": [
    {
     "name": "stdout",
     "output_type": "stream",
     "text": [
      "Training accuracy is 0.9576182418822012\n",
      "Test accuracy is 0.9508898729946524\n",
      "[[42723   227]\n",
      " [ 2124  2798]]\n",
      "              precision    recall  f1-score   support\n",
      "\n",
      "           0       0.95      0.99      0.97     42950\n",
      "           1       0.92      0.57      0.70      4922\n",
      "\n",
      "    accuracy                           0.95     47872\n",
      "   macro avg       0.94      0.78      0.84     47872\n",
      "weighted avg       0.95      0.95      0.95     47872\n",
      "\n"
     ]
    }
   ],
   "source": [
    "#RidgeClassifier()\n",
    "RD_model.fit(x_train,y_train)\n",
    "RD_model.score(x_train,y_train)\n",
    "y_pred_train =RD_model .predict(x_train)\n",
    "print('Training accuracy is {}'.format(accuracy_score(y_train, y_pred_train)))\n",
    "y_pred_test = RD_model.predict(x_test)\n",
    "print('Test accuracy is {}'.format(accuracy_score(y_test,y_pred_test)))\n",
    "print(confusion_matrix(y_test,y_pred_test))\n",
    "print(classification_report(y_test,y_pred_test))"
   ]
  },
  {
   "cell_type": "code",
   "execution_count": 28,
   "id": "ffd9ffc5",
   "metadata": {},
   "outputs": [
    {
     "name": "stdout",
     "output_type": "stream",
     "text": [
      "Training accuracy is 0.9990152105211327\n",
      "Test accuracy is 0.9406542446524064\n",
      "[[41621  1329]\n",
      " [ 1512  3410]]\n",
      "              precision    recall  f1-score   support\n",
      "\n",
      "           0       0.96      0.97      0.97     42950\n",
      "           1       0.72      0.69      0.71      4922\n",
      "\n",
      "    accuracy                           0.94     47872\n",
      "   macro avg       0.84      0.83      0.84     47872\n",
      "weighted avg       0.94      0.94      0.94     47872\n",
      "\n"
     ]
    }
   ],
   "source": [
    "#DecisionTreeClassifier()\n",
    "DT_model.fit(x_train,y_train)\n",
    "DT_model.score(x_train,y_train)\n",
    "y_pred_train = DT_model.predict(x_train)\n",
    "print('Training accuracy is {}'.format(accuracy_score(y_train, y_pred_train)))\n",
    "y_pred_test = DT_model.predict(x_test)\n",
    "print('Test accuracy is {}'.format(accuracy_score(y_test,y_pred_test)))\n",
    "print(confusion_matrix(y_test,y_pred_test))\n",
    "print(classification_report(y_test,y_pred_test))"
   ]
  },
  {
   "cell_type": "code",
   "execution_count": null,
   "id": "01e74ec7",
   "metadata": {},
   "outputs": [],
   "source": [
    "#SVC()\n",
    "SV_model.fit(x_train,y_train)\n",
    "SV_model.score(x_train,y_train)\n",
    "y_pred_train = SV_model.predict(x_train)\n",
    "print('Training accuracy is {}'.format(accuracy_score(y_train, y_pred_train)))\n",
    "y_pred_test = SV_model.predict(x_test)\n",
    "print('Test accuracy is {}'.format(accuracy_score(y_test,y_pred_test)))\n",
    "print(confusion_matrix(y_test,y_pred_test))\n",
    "print(classification_report(y_test,y_pred_test))"
   ]
  },
  {
   "cell_type": "code",
   "execution_count": null,
   "id": "3d1d9821",
   "metadata": {},
   "outputs": [],
   "source": [
    "#KNeighborsClassifier()\n",
    "KNR_model.fit(x_train,y_train)\n",
    "KNR_model.score(x_train,y_train)\n",
    "y_pred_train = KNR_model.predict(x_train)\n",
    "print('Training accuracy is {}'.format(accuracy_score(y_train, y_pred_train)))\n",
    "y_pred_test = KNR_model.predict(x_test)\n",
    "print('Test accuracy is {}'.format(accuracy_score(y_test,y_pred_test)))\n",
    "print(confusion_matrix(y_test,y_pred_test))\n",
    "print(classification_report(y_test,y_pred_test))"
   ]
  },
  {
   "cell_type": "code",
   "execution_count": null,
   "id": "61cb71f6",
   "metadata": {},
   "outputs": [],
   "source": [
    "#AdaBoostClassifier()\n",
    "ADA_model.fit(x_train,y_train)\n",
    "ADA_model.score(x_train,y_train)\n",
    "y_pred_train = ADA_model.predict(x_train)\n",
    "print('Training accuracy is {}'.format(accuracy_score(y_train, y_pred_train)))\n",
    "y_pred_test = ADA_model.predict(x_test)\n",
    "print('Test accuracy is {}'.format(accuracy_score(y_test,y_pred_test)))\n",
    "print(confusion_matrix(y_test,y_pred_test))\n",
    "print(classification_report(y_test,y_pred_test))"
   ]
  },
  {
   "cell_type": "code",
   "execution_count": null,
   "id": "163b7965",
   "metadata": {},
   "outputs": [],
   "source": [
    "#GradientBoostingClassifier()\n",
    "GB_model.fit(x_train,y_train)\n",
    "GB_model.score(x_train,y_train)\n",
    "y_pred_train = GB_model.predict(x_train)\n",
    "print('Training accuracy is {}'.format(accuracy_score(y_train, y_pred_train)))\n",
    "y_pred_test = GB_model.predict(x_test)\n",
    "print('Test accuracy is {}'.format(accuracy_score(y_test,y_pred_test)))\n",
    "print(confusion_matrix(y_test,y_pred_test))\n",
    "print(classification_report(y_test,y_pred_test))"
   ]
  },
  {
   "cell_type": "code",
   "execution_count": null,
   "id": "fb7a7c76",
   "metadata": {},
   "outputs": [],
   "source": [
    "model=[RD_model,DT_model,SV_model,KNR_model,ADA_model,GB_model ]"
   ]
  },
  {
   "cell_type": "code",
   "execution_count": null,
   "id": "64d0af77",
   "metadata": {},
   "outputs": [],
   "source": [
    "#cross validation\n",
    "from sklearn.model_selection import cross_val_score\n",
    "for i in model:\n",
    "    print('Accuracy_Score of ',i, 'is', accuracy_score(y_test,i.predict(x_test))*100)\n",
    "    print(\"cross Validation accuracy score of \",i ,\" is \",cross_val_score(i,x,y,cv=5, scoring='accuracy').mean()*100)\n",
    "    print('*'*50)"
   ]
  },
  {
   "cell_type": "markdown",
   "id": "84854d2d",
   "metadata": {},
   "source": [
    "## Hyper Parameter tuning:"
   ]
  },
  {
   "cell_type": "code",
   "execution_count": null,
   "id": "e0fffcf4",
   "metadata": {},
   "outputs": [],
   "source": [
    "#Checking the best parameter for prediction of KNeighborsClassifier Algo using Gridsearchcv\n",
    "x_train,x_test, y_train, y_test=train_test_split(x,y, random_state = 100, test_size = 0.33)\n",
    "\n",
    "KNN =KNeighborsClassifier()\n",
    "parameters={'n_neighbors':range(1,30)}\n",
    "gridsearch=GridSearchCV(KNN,parameters)\n",
    "gridsearch.fit(x_train, y_train)\n",
    "gridsearch.best_params_"
   ]
  },
  {
   "cell_type": "code",
   "execution_count": null,
   "id": "edcd0925",
   "metadata": {},
   "outputs": [],
   "source": [
    "GCV_pred=gridsearch.best_estimator_.predict(x_test)\n",
    "accuracy_score(y_test,GCV_pred)"
   ]
  },
  {
   "cell_type": "markdown",
   "id": "730ab6e6",
   "metadata": {},
   "source": [
    "## ROC curve:"
   ]
  },
  {
   "cell_type": "code",
   "execution_count": null,
   "id": "83f097be",
   "metadata": {},
   "outputs": [],
   "source": [
    "#plotting the ROC curve for different types of model\n",
    "from sklearn.metrics import roc_auc_score,roc_curve,plot_roc_curve\n",
    "\n",
    "plot_roc_curve(ADA_model,x_test,y_test)\n",
    "plot_roc_curve(RD_model,x_test,y_test)\n",
    "plot_roc_curve(DT_model,x_test,y_test)\n",
    "plot_roc_curve(SV_model,x_test,y_test)\n",
    "plot_roc_curve(KNR_model,x_test,y_test)\n",
    "plot_roc_curve(GB_model,x_test,y_test)\n",
    "\n",
    "plt.title('ROC AUC Plot')\n",
    "plt.show()"
   ]
  },
  {
   "cell_type": "code",
   "execution_count": null,
   "id": "16bd2dbc",
   "metadata": {},
   "outputs": [],
   "source": [
    "#Use pickle to save our model so that we can use it later\n",
    "\n",
    "\n",
    "# Saving model to disk\n",
    "pickle.dump(DT_model, open('model.pkl','wb'))\n",
    "model=pickle.load(open('model.pkl','rb'))"
   ]
  },
  {
   "cell_type": "markdown",
   "id": "d51a99b7",
   "metadata": {},
   "source": [
    "## conclusion:"
   ]
  },
  {
   "cell_type": "markdown",
   "id": "75030715",
   "metadata": {},
   "source": [
    "Desicion tree classifier matrics gives the best model for training dataset."
   ]
  },
  {
   "cell_type": "code",
   "execution_count": null,
   "id": "a91614d3",
   "metadata": {},
   "outputs": [],
   "source": []
  },
  {
   "cell_type": "code",
   "execution_count": null,
   "id": "d3bce383",
   "metadata": {},
   "outputs": [],
   "source": []
  }
 ],
 "metadata": {
  "kernelspec": {
   "display_name": "Python 3 (ipykernel)",
   "language": "python",
   "name": "python3"
  },
  "language_info": {
   "codemirror_mode": {
    "name": "ipython",
    "version": 3
   },
   "file_extension": ".py",
   "mimetype": "text/x-python",
   "name": "python",
   "nbconvert_exporter": "python",
   "pygments_lexer": "ipython3",
   "version": "3.9.7"
  }
 },
 "nbformat": 4,
 "nbformat_minor": 5
}
